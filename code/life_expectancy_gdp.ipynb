{
 "cells": [
  {
   "cell_type": "markdown",
   "metadata": {},
   "source": [
    "# Life Expectancy and GDP"
   ]
  },
  {
   "cell_type": "markdown",
   "metadata": {},
   "source": [
    "This project is to analyze data on GDP and life expectancy from the World Health Organization and the World Bank to try and identify the relationship between the GDP and life expectancy of six countries."
   ]
  },
  {
   "cell_type": "markdown",
   "metadata": {},
   "source": [
    "All data used is from the CodeAcademy life expectancy and GDP dataset"
   ]
  },
  {
   "cell_type": "markdown",
   "metadata": {},
   "source": [
    "Countries included: ['Chile', 'China', 'Germany', 'Mexico', 'United States of America',\n",
    "       'Zimbabwe']"
   ]
  },
  {
   "cell_type": "markdown",
   "metadata": {},
   "source": [
    "Main Hypothesis: As GDP increases life expectancy will increase."
   ]
  },
  {
   "cell_type": "markdown",
   "metadata": {},
   "source": [
    "The aims of this project are to:"
   ]
  },
  {
   "cell_type": "markdown",
   "metadata": {},
   "source": [
    "    1. Load data\n",
    "    2. Create summary statistics\n",
    "    3. Create initial visualisations to create visual observations of GDP and Life Expectancy over Time\n",
    "        a. GDP over time\n",
    "        b. GDP per country over time\n",
    "        b. Life expectancy over time\n",
    "        c. Life expectancy per country over time\n",
    "    4. Create linear regression to determine association between GDP and Life Expectancy\n",
    "    5. Summarise conclusions in relation to the hypothesis"
   ]
  },
  {
   "cell_type": "code",
   "execution_count": 45,
   "metadata": {},
   "outputs": [],
   "source": [
    "# Import any relevant packages\n",
    "import pandas as pd\n",
    "import statsmodels.api as sm\n",
    "import matplotlib.pyplot as plt\n",
    "import seaborn as sns"
   ]
  },
  {
   "cell_type": "markdown",
   "metadata": {},
   "source": [
    "## 1.0 -  Load the Data"
   ]
  },
  {
   "cell_type": "code",
   "execution_count": 38,
   "metadata": {},
   "outputs": [],
   "source": [
    "# Load the data\n",
    "all_data = pd.read_csv('../data/all_data.csv')"
   ]
  },
  {
   "cell_type": "code",
   "execution_count": 39,
   "metadata": {},
   "outputs": [
    {
     "data": {
      "text/html": [
       "<div>\n",
       "<style scoped>\n",
       "    .dataframe tbody tr th:only-of-type {\n",
       "        vertical-align: middle;\n",
       "    }\n",
       "\n",
       "    .dataframe tbody tr th {\n",
       "        vertical-align: top;\n",
       "    }\n",
       "\n",
       "    .dataframe thead th {\n",
       "        text-align: right;\n",
       "    }\n",
       "</style>\n",
       "<table border=\"1\" class=\"dataframe\">\n",
       "  <thead>\n",
       "    <tr style=\"text-align: right;\">\n",
       "      <th></th>\n",
       "      <th>Country</th>\n",
       "      <th>Year</th>\n",
       "      <th>Life expectancy at birth (years)</th>\n",
       "      <th>GDP</th>\n",
       "    </tr>\n",
       "  </thead>\n",
       "  <tbody>\n",
       "    <tr>\n",
       "      <th>0</th>\n",
       "      <td>Chile</td>\n",
       "      <td>2000</td>\n",
       "      <td>77.3</td>\n",
       "      <td>7.786093e+10</td>\n",
       "    </tr>\n",
       "    <tr>\n",
       "      <th>1</th>\n",
       "      <td>Chile</td>\n",
       "      <td>2001</td>\n",
       "      <td>77.3</td>\n",
       "      <td>7.097992e+10</td>\n",
       "    </tr>\n",
       "    <tr>\n",
       "      <th>2</th>\n",
       "      <td>Chile</td>\n",
       "      <td>2002</td>\n",
       "      <td>77.8</td>\n",
       "      <td>6.973681e+10</td>\n",
       "    </tr>\n",
       "    <tr>\n",
       "      <th>3</th>\n",
       "      <td>Chile</td>\n",
       "      <td>2003</td>\n",
       "      <td>77.9</td>\n",
       "      <td>7.564346e+10</td>\n",
       "    </tr>\n",
       "    <tr>\n",
       "      <th>4</th>\n",
       "      <td>Chile</td>\n",
       "      <td>2004</td>\n",
       "      <td>78.0</td>\n",
       "      <td>9.921039e+10</td>\n",
       "    </tr>\n",
       "  </tbody>\n",
       "</table>\n",
       "</div>"
      ],
      "text/plain": [
       "  Country  Year  Life expectancy at birth (years)           GDP\n",
       "0   Chile  2000                              77.3  7.786093e+10\n",
       "1   Chile  2001                              77.3  7.097992e+10\n",
       "2   Chile  2002                              77.8  6.973681e+10\n",
       "3   Chile  2003                              77.9  7.564346e+10\n",
       "4   Chile  2004                              78.0  9.921039e+10"
      ]
     },
     "execution_count": 39,
     "metadata": {},
     "output_type": "execute_result"
    }
   ],
   "source": [
    "# Check columns in data using head()\n",
    "all_data.head()"
   ]
  },
  {
   "cell_type": "code",
   "execution_count": 41,
   "metadata": {},
   "outputs": [
    {
     "data": {
      "text/plain": [
       "['Country', 'Year', 'Life_expectancy_at_birth', 'GDP']"
      ]
     },
     "execution_count": 41,
     "metadata": {},
     "output_type": "execute_result"
    }
   ],
   "source": [
    "# update column name structure\n",
    "all_data.rename(columns = {'Life expectancy at birth (years)':'Life_expectancy_at_birth'}, inplace=True)\n",
    "list(all_data.columns)"
   ]
  },
  {
   "cell_type": "markdown",
   "metadata": {},
   "source": [
    "## 2.0 - Explore the Data"
   ]
  },
  {
   "cell_type": "markdown",
   "metadata": {},
   "source": [
    "### 2.1 - Check Descriptive Statistics and Characteristics of the Data"
   ]
  },
  {
   "cell_type": "code",
   "execution_count": 19,
   "metadata": {},
   "outputs": [
    {
     "data": {
      "text/html": [
       "<div>\n",
       "<style scoped>\n",
       "    .dataframe tbody tr th:only-of-type {\n",
       "        vertical-align: middle;\n",
       "    }\n",
       "\n",
       "    .dataframe tbody tr th {\n",
       "        vertical-align: top;\n",
       "    }\n",
       "\n",
       "    .dataframe thead th {\n",
       "        text-align: right;\n",
       "    }\n",
       "</style>\n",
       "<table border=\"1\" class=\"dataframe\">\n",
       "  <thead>\n",
       "    <tr style=\"text-align: right;\">\n",
       "      <th></th>\n",
       "      <th>Year</th>\n",
       "      <th>Life expectancy at birth (years)</th>\n",
       "      <th>GDP</th>\n",
       "    </tr>\n",
       "  </thead>\n",
       "  <tbody>\n",
       "    <tr>\n",
       "      <th>count</th>\n",
       "      <td>96.000000</td>\n",
       "      <td>96.000000</td>\n",
       "      <td>9.600000e+01</td>\n",
       "    </tr>\n",
       "    <tr>\n",
       "      <th>mean</th>\n",
       "      <td>2007.500000</td>\n",
       "      <td>72.789583</td>\n",
       "      <td>3.880499e+12</td>\n",
       "    </tr>\n",
       "    <tr>\n",
       "      <th>std</th>\n",
       "      <td>4.633971</td>\n",
       "      <td>10.672882</td>\n",
       "      <td>5.197561e+12</td>\n",
       "    </tr>\n",
       "    <tr>\n",
       "      <th>min</th>\n",
       "      <td>2000.000000</td>\n",
       "      <td>44.300000</td>\n",
       "      <td>4.415703e+09</td>\n",
       "    </tr>\n",
       "    <tr>\n",
       "      <th>25%</th>\n",
       "      <td>2003.750000</td>\n",
       "      <td>74.475000</td>\n",
       "      <td>1.733018e+11</td>\n",
       "    </tr>\n",
       "    <tr>\n",
       "      <th>50%</th>\n",
       "      <td>2007.500000</td>\n",
       "      <td>76.750000</td>\n",
       "      <td>1.280220e+12</td>\n",
       "    </tr>\n",
       "    <tr>\n",
       "      <th>75%</th>\n",
       "      <td>2011.250000</td>\n",
       "      <td>78.900000</td>\n",
       "      <td>4.067510e+12</td>\n",
       "    </tr>\n",
       "    <tr>\n",
       "      <th>max</th>\n",
       "      <td>2015.000000</td>\n",
       "      <td>81.000000</td>\n",
       "      <td>1.810000e+13</td>\n",
       "    </tr>\n",
       "  </tbody>\n",
       "</table>\n",
       "</div>"
      ],
      "text/plain": [
       "              Year  Life expectancy at birth (years)           GDP\n",
       "count    96.000000                         96.000000  9.600000e+01\n",
       "mean   2007.500000                         72.789583  3.880499e+12\n",
       "std       4.633971                         10.672882  5.197561e+12\n",
       "min    2000.000000                         44.300000  4.415703e+09\n",
       "25%    2003.750000                         74.475000  1.733018e+11\n",
       "50%    2007.500000                         76.750000  1.280220e+12\n",
       "75%    2011.250000                         78.900000  4.067510e+12\n",
       "max    2015.000000                         81.000000  1.810000e+13"
      ]
     },
     "execution_count": 19,
     "metadata": {},
     "output_type": "execute_result"
    }
   ],
   "source": [
    "# Get summary statistics of the data\n",
    "all_data.describe()"
   ]
  },
  {
   "cell_type": "markdown",
   "metadata": {},
   "source": [
    "Life Expectancy Mean: 72.7\n",
    "\n",
    "GDP Mean: 3.880499e+12"
   ]
  },
  {
   "cell_type": "code",
   "execution_count": 16,
   "metadata": {},
   "outputs": [
    {
     "data": {
      "text/plain": [
       "array(['Chile', 'China', 'Germany', 'Mexico', 'United States of America',\n",
       "       'Zimbabwe'], dtype=object)"
      ]
     },
     "execution_count": 16,
     "metadata": {},
     "output_type": "execute_result"
    }
   ],
   "source": [
    "# Check countries being analysed\n",
    "all_data['Country'].unique()"
   ]
  },
  {
   "cell_type": "markdown",
   "metadata": {},
   "source": [
    "### 2.2 - Create initial visualisations"
   ]
  },
  {
   "cell_type": "code",
   "execution_count": 60,
   "metadata": {},
   "outputs": [
    {
     "data": {
      "text/html": [
       "<div>\n",
       "<style scoped>\n",
       "    .dataframe tbody tr th:only-of-type {\n",
       "        vertical-align: middle;\n",
       "    }\n",
       "\n",
       "    .dataframe tbody tr th {\n",
       "        vertical-align: top;\n",
       "    }\n",
       "\n",
       "    .dataframe thead th {\n",
       "        text-align: right;\n",
       "    }\n",
       "</style>\n",
       "<table border=\"1\" class=\"dataframe\">\n",
       "  <thead>\n",
       "    <tr style=\"text-align: right;\">\n",
       "      <th>Country</th>\n",
       "      <th>Chile</th>\n",
       "      <th>China</th>\n",
       "      <th>Germany</th>\n",
       "      <th>Mexico</th>\n",
       "      <th>United States of America</th>\n",
       "      <th>Zimbabwe</th>\n",
       "    </tr>\n",
       "    <tr>\n",
       "      <th>Year</th>\n",
       "      <th></th>\n",
       "      <th></th>\n",
       "      <th></th>\n",
       "      <th></th>\n",
       "      <th></th>\n",
       "      <th></th>\n",
       "    </tr>\n",
       "  </thead>\n",
       "  <tbody>\n",
       "    <tr>\n",
       "      <th>2000</th>\n",
       "      <td>7.786093e+10</td>\n",
       "      <td>1.211350e+12</td>\n",
       "      <td>1.949950e+12</td>\n",
       "      <td>6.836480e+11</td>\n",
       "      <td>1.030000e+13</td>\n",
       "      <td>6.689958e+09</td>\n",
       "    </tr>\n",
       "    <tr>\n",
       "      <th>2001</th>\n",
       "      <td>7.097992e+10</td>\n",
       "      <td>1.339400e+12</td>\n",
       "      <td>1.950650e+12</td>\n",
       "      <td>7.247040e+11</td>\n",
       "      <td>1.060000e+13</td>\n",
       "      <td>6.777385e+09</td>\n",
       "    </tr>\n",
       "    <tr>\n",
       "      <th>2002</th>\n",
       "      <td>6.973681e+10</td>\n",
       "      <td>1.470550e+12</td>\n",
       "      <td>2.079140e+12</td>\n",
       "      <td>7.415600e+11</td>\n",
       "      <td>1.100000e+13</td>\n",
       "      <td>6.342116e+09</td>\n",
       "    </tr>\n",
       "    <tr>\n",
       "      <th>2003</th>\n",
       "      <td>7.564346e+10</td>\n",
       "      <td>1.660290e+12</td>\n",
       "      <td>2.505730e+12</td>\n",
       "      <td>7.132840e+11</td>\n",
       "      <td>1.150000e+13</td>\n",
       "      <td>5.727592e+09</td>\n",
       "    </tr>\n",
       "    <tr>\n",
       "      <th>2004</th>\n",
       "      <td>9.921039e+10</td>\n",
       "      <td>1.955350e+12</td>\n",
       "      <td>2.819250e+12</td>\n",
       "      <td>7.702680e+11</td>\n",
       "      <td>1.230000e+13</td>\n",
       "      <td>5.805598e+09</td>\n",
       "    </tr>\n",
       "    <tr>\n",
       "      <th>2005</th>\n",
       "      <td>1.229650e+11</td>\n",
       "      <td>2.285970e+12</td>\n",
       "      <td>2.861410e+12</td>\n",
       "      <td>8.663460e+11</td>\n",
       "      <td>1.310000e+13</td>\n",
       "      <td>5.755215e+09</td>\n",
       "    </tr>\n",
       "    <tr>\n",
       "      <th>2006</th>\n",
       "      <td>1.547880e+11</td>\n",
       "      <td>2.752130e+12</td>\n",
       "      <td>3.002450e+12</td>\n",
       "      <td>9.652810e+11</td>\n",
       "      <td>1.390000e+13</td>\n",
       "      <td>5.443896e+09</td>\n",
       "    </tr>\n",
       "    <tr>\n",
       "      <th>2007</th>\n",
       "      <td>1.736060e+11</td>\n",
       "      <td>3.552180e+12</td>\n",
       "      <td>3.439950e+12</td>\n",
       "      <td>1.043470e+12</td>\n",
       "      <td>1.450000e+13</td>\n",
       "      <td>5.291950e+09</td>\n",
       "    </tr>\n",
       "    <tr>\n",
       "      <th>2008</th>\n",
       "      <td>1.796380e+11</td>\n",
       "      <td>4.598210e+12</td>\n",
       "      <td>3.752370e+12</td>\n",
       "      <td>1.101280e+12</td>\n",
       "      <td>1.470000e+13</td>\n",
       "      <td>4.415703e+09</td>\n",
       "    </tr>\n",
       "    <tr>\n",
       "      <th>2009</th>\n",
       "      <td>1.723890e+11</td>\n",
       "      <td>5.109950e+12</td>\n",
       "      <td>3.418010e+12</td>\n",
       "      <td>8.949490e+11</td>\n",
       "      <td>1.440000e+13</td>\n",
       "      <td>8.621574e+09</td>\n",
       "    </tr>\n",
       "    <tr>\n",
       "      <th>2010</th>\n",
       "      <td>2.185380e+11</td>\n",
       "      <td>6.100620e+12</td>\n",
       "      <td>3.417090e+12</td>\n",
       "      <td>1.051130e+12</td>\n",
       "      <td>1.500000e+13</td>\n",
       "      <td>1.014186e+10</td>\n",
       "    </tr>\n",
       "    <tr>\n",
       "      <th>2011</th>\n",
       "      <td>2.522520e+11</td>\n",
       "      <td>7.572550e+12</td>\n",
       "      <td>3.757700e+12</td>\n",
       "      <td>1.171190e+12</td>\n",
       "      <td>1.550000e+13</td>\n",
       "      <td>1.209845e+10</td>\n",
       "    </tr>\n",
       "    <tr>\n",
       "      <th>2012</th>\n",
       "      <td>2.671220e+11</td>\n",
       "      <td>8.560550e+12</td>\n",
       "      <td>3.543980e+12</td>\n",
       "      <td>1.186600e+12</td>\n",
       "      <td>1.620000e+13</td>\n",
       "      <td>1.424249e+10</td>\n",
       "    </tr>\n",
       "    <tr>\n",
       "      <th>2013</th>\n",
       "      <td>2.783840e+11</td>\n",
       "      <td>9.607220e+12</td>\n",
       "      <td>3.752510e+12</td>\n",
       "      <td>1.261980e+12</td>\n",
       "      <td>1.670000e+13</td>\n",
       "      <td>1.545177e+10</td>\n",
       "    </tr>\n",
       "    <tr>\n",
       "      <th>2014</th>\n",
       "      <td>2.609900e+11</td>\n",
       "      <td>1.048240e+13</td>\n",
       "      <td>3.890610e+12</td>\n",
       "      <td>1.298460e+12</td>\n",
       "      <td>1.740000e+13</td>\n",
       "      <td>1.589105e+10</td>\n",
       "    </tr>\n",
       "    <tr>\n",
       "      <th>2015</th>\n",
       "      <td>2.425180e+11</td>\n",
       "      <td>1.106470e+13</td>\n",
       "      <td>3.375610e+12</td>\n",
       "      <td>1.152260e+12</td>\n",
       "      <td>1.810000e+13</td>\n",
       "      <td>1.630467e+10</td>\n",
       "    </tr>\n",
       "  </tbody>\n",
       "</table>\n",
       "</div>"
      ],
      "text/plain": [
       "Country         Chile         China       Germany        Mexico  \\\n",
       "Year                                                              \n",
       "2000     7.786093e+10  1.211350e+12  1.949950e+12  6.836480e+11   \n",
       "2001     7.097992e+10  1.339400e+12  1.950650e+12  7.247040e+11   \n",
       "2002     6.973681e+10  1.470550e+12  2.079140e+12  7.415600e+11   \n",
       "2003     7.564346e+10  1.660290e+12  2.505730e+12  7.132840e+11   \n",
       "2004     9.921039e+10  1.955350e+12  2.819250e+12  7.702680e+11   \n",
       "2005     1.229650e+11  2.285970e+12  2.861410e+12  8.663460e+11   \n",
       "2006     1.547880e+11  2.752130e+12  3.002450e+12  9.652810e+11   \n",
       "2007     1.736060e+11  3.552180e+12  3.439950e+12  1.043470e+12   \n",
       "2008     1.796380e+11  4.598210e+12  3.752370e+12  1.101280e+12   \n",
       "2009     1.723890e+11  5.109950e+12  3.418010e+12  8.949490e+11   \n",
       "2010     2.185380e+11  6.100620e+12  3.417090e+12  1.051130e+12   \n",
       "2011     2.522520e+11  7.572550e+12  3.757700e+12  1.171190e+12   \n",
       "2012     2.671220e+11  8.560550e+12  3.543980e+12  1.186600e+12   \n",
       "2013     2.783840e+11  9.607220e+12  3.752510e+12  1.261980e+12   \n",
       "2014     2.609900e+11  1.048240e+13  3.890610e+12  1.298460e+12   \n",
       "2015     2.425180e+11  1.106470e+13  3.375610e+12  1.152260e+12   \n",
       "\n",
       "Country  United States of America      Zimbabwe  \n",
       "Year                                             \n",
       "2000                 1.030000e+13  6.689958e+09  \n",
       "2001                 1.060000e+13  6.777385e+09  \n",
       "2002                 1.100000e+13  6.342116e+09  \n",
       "2003                 1.150000e+13  5.727592e+09  \n",
       "2004                 1.230000e+13  5.805598e+09  \n",
       "2005                 1.310000e+13  5.755215e+09  \n",
       "2006                 1.390000e+13  5.443896e+09  \n",
       "2007                 1.450000e+13  5.291950e+09  \n",
       "2008                 1.470000e+13  4.415703e+09  \n",
       "2009                 1.440000e+13  8.621574e+09  \n",
       "2010                 1.500000e+13  1.014186e+10  \n",
       "2011                 1.550000e+13  1.209845e+10  \n",
       "2012                 1.620000e+13  1.424249e+10  \n",
       "2013                 1.670000e+13  1.545177e+10  \n",
       "2014                 1.740000e+13  1.589105e+10  \n",
       "2015                 1.810000e+13  1.630467e+10  "
      ]
     },
     "metadata": {},
     "output_type": "display_data"
    },
    {
     "data": {
      "image/png": "[encoded data removed]",
      "text/plain": [
       "<Figure size 432x288 with 1 Axes>"
      ]
     },
     "metadata": {
      "needs_background": "light"
     },
     "output_type": "display_data"
    },
    {
     "data": {
      "image/png": "[encoded data removed]",
      "text/plain": [
       "<Figure size 432x288 with 1 Axes>"
      ]
     },
     "metadata": {
      "needs_background": "light"
     },
     "output_type": "display_data"
    }
   ],
   "source": [
    "# GDP over time\n",
    "avg_gdp = all_data.groupby('Year')['GDP'].agg('mean')\n",
    "avg_gdp.plot()\n",
    "plt.title('GDP over time')\n",
    "\n",
    "\n",
    " \n",
    "# GDP over time per country\n",
    "# pivot data\n",
    "df = all_data.pivot(index='Year', columns='Country', values='GDP')\n",
    "display(df)\n",
    "# create subplot\n",
    "df.plot()\n",
    "plt.title('GDP over time by country')\n",
    " \n",
    "# Display both subplots\n",
    "plt.show()\n"
   ]
  },
  {
   "cell_type": "code",
   "execution_count": 21,
   "metadata": {},
   "outputs": [],
   "source": []
  },
  {
   "cell_type": "code",
   "execution_count": 61,
   "metadata": {},
   "outputs": [
    {
     "data": {
      "text/html": [
       "<div>\n",
       "<style scoped>\n",
       "    .dataframe tbody tr th:only-of-type {\n",
       "        vertical-align: middle;\n",
       "    }\n",
       "\n",
       "    .dataframe tbody tr th {\n",
       "        vertical-align: top;\n",
       "    }\n",
       "\n",
       "    .dataframe thead th {\n",
       "        text-align: right;\n",
       "    }\n",
       "</style>\n",
       "<table border=\"1\" class=\"dataframe\">\n",
       "  <thead>\n",
       "    <tr style=\"text-align: right;\">\n",
       "      <th>Country</th>\n",
       "      <th>Chile</th>\n",
       "      <th>China</th>\n",
       "      <th>Germany</th>\n",
       "      <th>Mexico</th>\n",
       "      <th>United States of America</th>\n",
       "      <th>Zimbabwe</th>\n",
       "    </tr>\n",
       "    <tr>\n",
       "      <th>Year</th>\n",
       "      <th></th>\n",
       "      <th></th>\n",
       "      <th></th>\n",
       "      <th></th>\n",
       "      <th></th>\n",
       "      <th></th>\n",
       "    </tr>\n",
       "  </thead>\n",
       "  <tbody>\n",
       "    <tr>\n",
       "      <th>2000</th>\n",
       "      <td>77.3</td>\n",
       "      <td>71.7</td>\n",
       "      <td>78.0</td>\n",
       "      <td>74.8</td>\n",
       "      <td>76.8</td>\n",
       "      <td>46.0</td>\n",
       "    </tr>\n",
       "    <tr>\n",
       "      <th>2001</th>\n",
       "      <td>77.3</td>\n",
       "      <td>72.2</td>\n",
       "      <td>78.3</td>\n",
       "      <td>75.0</td>\n",
       "      <td>76.9</td>\n",
       "      <td>45.3</td>\n",
       "    </tr>\n",
       "    <tr>\n",
       "      <th>2002</th>\n",
       "      <td>77.8</td>\n",
       "      <td>72.7</td>\n",
       "      <td>78.4</td>\n",
       "      <td>75.0</td>\n",
       "      <td>77.0</td>\n",
       "      <td>44.8</td>\n",
       "    </tr>\n",
       "    <tr>\n",
       "      <th>2003</th>\n",
       "      <td>77.9</td>\n",
       "      <td>73.1</td>\n",
       "      <td>78.5</td>\n",
       "      <td>75.0</td>\n",
       "      <td>77.2</td>\n",
       "      <td>44.5</td>\n",
       "    </tr>\n",
       "    <tr>\n",
       "      <th>2004</th>\n",
       "      <td>78.0</td>\n",
       "      <td>73.5</td>\n",
       "      <td>79.1</td>\n",
       "      <td>75.4</td>\n",
       "      <td>77.5</td>\n",
       "      <td>44.3</td>\n",
       "    </tr>\n",
       "    <tr>\n",
       "      <th>2005</th>\n",
       "      <td>78.4</td>\n",
       "      <td>73.9</td>\n",
       "      <td>79.2</td>\n",
       "      <td>75.3</td>\n",
       "      <td>77.5</td>\n",
       "      <td>44.6</td>\n",
       "    </tr>\n",
       "    <tr>\n",
       "      <th>2006</th>\n",
       "      <td>78.9</td>\n",
       "      <td>74.2</td>\n",
       "      <td>79.6</td>\n",
       "      <td>75.8</td>\n",
       "      <td>77.8</td>\n",
       "      <td>45.4</td>\n",
       "    </tr>\n",
       "    <tr>\n",
       "      <th>2007</th>\n",
       "      <td>78.9</td>\n",
       "      <td>74.4</td>\n",
       "      <td>79.8</td>\n",
       "      <td>76.0</td>\n",
       "      <td>78.1</td>\n",
       "      <td>46.6</td>\n",
       "    </tr>\n",
       "    <tr>\n",
       "      <th>2008</th>\n",
       "      <td>79.6</td>\n",
       "      <td>74.5</td>\n",
       "      <td>79.9</td>\n",
       "      <td>75.6</td>\n",
       "      <td>78.2</td>\n",
       "      <td>48.2</td>\n",
       "    </tr>\n",
       "    <tr>\n",
       "      <th>2009</th>\n",
       "      <td>79.3</td>\n",
       "      <td>74.9</td>\n",
       "      <td>80.0</td>\n",
       "      <td>75.7</td>\n",
       "      <td>78.5</td>\n",
       "      <td>50.0</td>\n",
       "    </tr>\n",
       "    <tr>\n",
       "      <th>2010</th>\n",
       "      <td>79.1</td>\n",
       "      <td>75.0</td>\n",
       "      <td>80.1</td>\n",
       "      <td>75.6</td>\n",
       "      <td>78.7</td>\n",
       "      <td>52.4</td>\n",
       "    </tr>\n",
       "    <tr>\n",
       "      <th>2011</th>\n",
       "      <td>79.8</td>\n",
       "      <td>75.2</td>\n",
       "      <td>80.5</td>\n",
       "      <td>76.1</td>\n",
       "      <td>78.7</td>\n",
       "      <td>54.9</td>\n",
       "    </tr>\n",
       "    <tr>\n",
       "      <th>2012</th>\n",
       "      <td>79.9</td>\n",
       "      <td>75.4</td>\n",
       "      <td>80.6</td>\n",
       "      <td>76.3</td>\n",
       "      <td>78.8</td>\n",
       "      <td>56.6</td>\n",
       "    </tr>\n",
       "    <tr>\n",
       "      <th>2013</th>\n",
       "      <td>80.1</td>\n",
       "      <td>75.6</td>\n",
       "      <td>80.6</td>\n",
       "      <td>76.6</td>\n",
       "      <td>78.9</td>\n",
       "      <td>58.0</td>\n",
       "    </tr>\n",
       "    <tr>\n",
       "      <th>2014</th>\n",
       "      <td>80.3</td>\n",
       "      <td>75.8</td>\n",
       "      <td>80.9</td>\n",
       "      <td>76.6</td>\n",
       "      <td>79.1</td>\n",
       "      <td>59.2</td>\n",
       "    </tr>\n",
       "    <tr>\n",
       "      <th>2015</th>\n",
       "      <td>80.5</td>\n",
       "      <td>76.1</td>\n",
       "      <td>81.0</td>\n",
       "      <td>76.7</td>\n",
       "      <td>79.3</td>\n",
       "      <td>60.7</td>\n",
       "    </tr>\n",
       "  </tbody>\n",
       "</table>\n",
       "</div>"
      ],
      "text/plain": [
       "Country  Chile  China  Germany  Mexico  United States of America  Zimbabwe\n",
       "Year                                                                      \n",
       "2000      77.3   71.7     78.0    74.8                      76.8      46.0\n",
       "2001      77.3   72.2     78.3    75.0                      76.9      45.3\n",
       "2002      77.8   72.7     78.4    75.0                      77.0      44.8\n",
       "2003      77.9   73.1     78.5    75.0                      77.2      44.5\n",
       "2004      78.0   73.5     79.1    75.4                      77.5      44.3\n",
       "2005      78.4   73.9     79.2    75.3                      77.5      44.6\n",
       "2006      78.9   74.2     79.6    75.8                      77.8      45.4\n",
       "2007      78.9   74.4     79.8    76.0                      78.1      46.6\n",
       "2008      79.6   74.5     79.9    75.6                      78.2      48.2\n",
       "2009      79.3   74.9     80.0    75.7                      78.5      50.0\n",
       "2010      79.1   75.0     80.1    75.6                      78.7      52.4\n",
       "2011      79.8   75.2     80.5    76.1                      78.7      54.9\n",
       "2012      79.9   75.4     80.6    76.3                      78.8      56.6\n",
       "2013      80.1   75.6     80.6    76.6                      78.9      58.0\n",
       "2014      80.3   75.8     80.9    76.6                      79.1      59.2\n",
       "2015      80.5   76.1     81.0    76.7                      79.3      60.7"
      ]
     },
     "metadata": {},
     "output_type": "display_data"
    },
    {
     "data": {
      "image/png": "[encoded data removed]",
      "text/plain": [
       "<Figure size 432x288 with 1 Axes>"
      ]
     },
     "metadata": {
      "needs_background": "light"
     },
     "output_type": "display_data"
    },
    {
     "data": {
      "image/png": "[encoded data removed]",
      "text/plain": [
       "<Figure size 432x288 with 1 Axes>"
      ]
     },
     "metadata": {
      "needs_background": "light"
     },
     "output_type": "display_data"
    }
   ],
   "source": [
    "# Life expectancy over time\n",
    "avg_gdp = all_data.groupby('Year')['Life_expectancy_at_birth'].agg('mean')\n",
    "avg_gdp.plot()\n",
    "plt.title('Life_expectancy_at_birth over time')\n",
    "\n",
    "\n",
    " \n",
    "# Life_expectancy_at_birth over time per country\n",
    "# pivot data\n",
    "df = all_data.pivot(index='Year', columns='Country', values='Life_expectancy_at_birth')\n",
    "display(df)\n",
    "# create subplot\n",
    "df.plot()\n",
    "plt.title('Life_expectancy_at_birth over time by country')\n",
    " \n",
    "# Display both subplots\n",
    "plt.show()"
   ]
  },
  {
   "cell_type": "markdown",
   "metadata": {},
   "source": [
    "Both life expectancy and GDP seem to increase generally over time in all countries. However, GDP seems to increase at a higher rate than Life Expectancy."
   ]
  },
  {
   "cell_type": "code",
   "execution_count": 65,
   "metadata": {},
   "outputs": [
    {
     "data": {
      "image/png": "[encoded data removed]",
      "text/plain": [
       "<Figure size 432x288 with 1 Axes>"
      ]
     },
     "metadata": {
      "needs_background": "light"
     },
     "output_type": "display_data"
    }
   ],
   "source": [
    "# Scatter plot GDP vs Life Expectancy\n",
    "plt.scatter(x=all_data.GDP, y=all_data.Life_expectancy_at_birth)\n",
    "plt.xlabel('GDP')\n",
    "plt.ylabel('Life expectancy at birth (years)')\n",
    "plt.show()\n"
   ]
  },
  {
   "cell_type": "markdown",
   "metadata": {},
   "source": [
    "### 2.3 - Linear Regression"
   ]
  },
  {
   "cell_type": "code",
   "execution_count": 67,
   "metadata": {},
   "outputs": [
    {
     "name": "stdout",
     "output_type": "stream",
     "text": [
      "                            OLS Regression Results                            \n",
      "==============================================================================\n",
      "Dep. Variable:                    GDP   R-squared:                       0.118\n",
      "Model:                            OLS   Adj. R-squared:                  0.108\n",
      "Method:                 Least Squares   F-statistic:                     12.55\n",
      "Date:                Mon, 13 Mar 2023   Prob (F-statistic):           0.000619\n",
      "Time:                        21:00:45   Log-Likelihood:                -2940.5\n",
      "No. Observations:                  96   AIC:                             5885.\n",
      "Df Residuals:                      94   BIC:                             5890.\n",
      "Df Model:                           1                                         \n",
      "Covariance Type:            nonrobust                                         \n",
      "============================================================================================\n",
      "                               coef    std err          t      P>|t|      [0.025      0.975]\n",
      "--------------------------------------------------------------------------------------------\n",
      "Intercept                -8.285e+12   3.47e+12     -2.387      0.019   -1.52e+13   -1.39e+12\n",
      "Life_expectancy_at_birth  1.671e+11   4.72e+10      3.543      0.001    7.35e+10    2.61e+11\n",
      "==============================================================================\n",
      "Omnibus:                       19.096   Durbin-Watson:                   0.156\n",
      "Prob(Omnibus):                  0.000   Jarque-Bera (JB):               23.985\n",
      "Skew:                           1.214   Prob(JB):                     6.19e-06\n",
      "Kurtosis:                       3.318   Cond. No.                         510.\n",
      "==============================================================================\n",
      "\n",
      "Notes:\n",
      "[1] Standard Errors assume that the covariance matrix of the errors is correctly specified.\n"
     ]
    }
   ],
   "source": [
    "# Linear Regression\n",
    "model = sm.OLS.from_formula('GDP ~ Life_expectancy_at_birth', data = all_data)\n",
    "results = model.fit()\n",
    "print(results.summary())"
   ]
  },
  {
   "cell_type": "markdown",
   "metadata": {},
   "source": [
    "\n",
    "## 3.0 - Conclusions"
   ]
  },
  {
   "cell_type": "markdown",
   "metadata": {},
   "source": [
    "As shown in the line graph above both GDP and Life Expectancy have had a positive trend over time. In GDP there is considerably more growth in the same time period in the USA and China than all other included countries. However only Zimbabwe has a significant increase in life expectancy over time. However, this still remains well below the other countries over at the end of the time period in 2015.\n",
    "\n",
    "Overall there also appears to be a positive correlation between GDP and Life expectancy, however using a regression model it shows a very low R2 value implying that there are likely many other components contributing to this correlation.\n",
    "\n",
    "It would be interesting to look into further the other components involved in the change in life expectancy over time.\n"
   ]
  }
 ],
 "metadata": {
  "kernelspec": {
   "display_name": "Python 3 (ipykernel)",
   "language": "python",
   "name": "python3"
  },
  "language_info": {
   "codemirror_mode": {
    "name": "ipython",
    "version": 3
   },
   "file_extension": ".py",
   "mimetype": "text/x-python",
   "name": "python",
   "nbconvert_exporter": "python",
   "pygments_lexer": "ipython3",
   "version": "3.9.7"
  }
 },
 "nbformat": 4,
 "nbformat_minor": 4
}
